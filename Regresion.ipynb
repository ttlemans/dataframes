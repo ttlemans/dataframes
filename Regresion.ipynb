{
  "nbformat": 4,
  "nbformat_minor": 0,
  "metadata": {
    "colab": {
      "name": "Untitled0.ipynb",
      "provenance": [],
      "authorship_tag": "ABX9TyORfAiuu7ZpKF20n2uqq+uT",
      "include_colab_link": true
    },
    "kernelspec": {
      "name": "python3",
      "display_name": "Python 3"
    },
    "language_info": {
      "name": "python"
    }
  },
  "cells": [
    {
      "cell_type": "markdown",
      "metadata": {
        "id": "view-in-github",
        "colab_type": "text"
      },
      "source": [
        "<a href=\"https://colab.research.google.com/github/ttlemans/dataframes/blob/main/Regresion.ipynb\" target=\"_parent\"><img src=\"https://colab.research.google.com/assets/colab-badge.svg\" alt=\"Open In Colab\"/></a>"
      ]
    },
    {
      "cell_type": "code",
      "metadata": {
        "colab": {
          "base_uri": "https://localhost:8080/",
          "height": 204
        },
        "id": "Yr4FLiGjLxct",
        "outputId": "b4d1a8b4-e4b0-47fc-82d3-cc31260d884b"
      },
      "source": [
        "import pathlib\n",
        "\n",
        "import matplotlib.pyplot as plt\n",
        "import pandas as pd\n",
        "import seaborn as sns\n",
        "\n",
        "import tensorflow as tf\n",
        "\n",
        "from tensorflow import keras\n",
        "from tensorflow.keras import layers\n",
        "\n",
        "url='https://raw.githubusercontent.com/ttlemans/dataframes/main/Second_hand_Cars.csv'\n",
        "\n",
        "dataset=pd.read_csv(url)\n",
        "dataset.tail()"
      ],
      "execution_count": 1,
      "outputs": [
        {
          "output_type": "execute_result",
          "data": {
            "text/html": [
              "<div>\n",
              "<style scoped>\n",
              "    .dataframe tbody tr th:only-of-type {\n",
              "        vertical-align: middle;\n",
              "    }\n",
              "\n",
              "    .dataframe tbody tr th {\n",
              "        vertical-align: top;\n",
              "    }\n",
              "\n",
              "    .dataframe thead th {\n",
              "        text-align: right;\n",
              "    }\n",
              "</style>\n",
              "<table border=\"1\" class=\"dataframe\">\n",
              "  <thead>\n",
              "    <tr style=\"text-align: right;\">\n",
              "      <th></th>\n",
              "      <th>v.id</th>\n",
              "      <th>on road old</th>\n",
              "      <th>on road now</th>\n",
              "      <th>years</th>\n",
              "      <th>km</th>\n",
              "      <th>rating</th>\n",
              "      <th>condition</th>\n",
              "      <th>economy</th>\n",
              "      <th>top speed</th>\n",
              "      <th>hp</th>\n",
              "      <th>torque</th>\n",
              "      <th>current price</th>\n",
              "    </tr>\n",
              "  </thead>\n",
              "  <tbody>\n",
              "    <tr>\n",
              "      <th>995</th>\n",
              "      <td>996</td>\n",
              "      <td>633238</td>\n",
              "      <td>743850</td>\n",
              "      <td>5</td>\n",
              "      <td>125092</td>\n",
              "      <td>1</td>\n",
              "      <td>6</td>\n",
              "      <td>11</td>\n",
              "      <td>171</td>\n",
              "      <td>95</td>\n",
              "      <td>97</td>\n",
              "      <td>190744.0</td>\n",
              "    </tr>\n",
              "    <tr>\n",
              "      <th>996</th>\n",
              "      <td>997</td>\n",
              "      <td>599626</td>\n",
              "      <td>848195</td>\n",
              "      <td>4</td>\n",
              "      <td>83370</td>\n",
              "      <td>2</td>\n",
              "      <td>9</td>\n",
              "      <td>14</td>\n",
              "      <td>161</td>\n",
              "      <td>101</td>\n",
              "      <td>120</td>\n",
              "      <td>419748.0</td>\n",
              "    </tr>\n",
              "    <tr>\n",
              "      <th>997</th>\n",
              "      <td>998</td>\n",
              "      <td>646344</td>\n",
              "      <td>842733</td>\n",
              "      <td>7</td>\n",
              "      <td>86722</td>\n",
              "      <td>1</td>\n",
              "      <td>8</td>\n",
              "      <td>9</td>\n",
              "      <td>196</td>\n",
              "      <td>113</td>\n",
              "      <td>89</td>\n",
              "      <td>405871.0</td>\n",
              "    </tr>\n",
              "    <tr>\n",
              "      <th>998</th>\n",
              "      <td>999</td>\n",
              "      <td>535559</td>\n",
              "      <td>732439</td>\n",
              "      <td>2</td>\n",
              "      <td>140478</td>\n",
              "      <td>4</td>\n",
              "      <td>5</td>\n",
              "      <td>9</td>\n",
              "      <td>184</td>\n",
              "      <td>112</td>\n",
              "      <td>128</td>\n",
              "      <td>74398.0</td>\n",
              "    </tr>\n",
              "    <tr>\n",
              "      <th>999</th>\n",
              "      <td>1000</td>\n",
              "      <td>590105</td>\n",
              "      <td>779743</td>\n",
              "      <td>5</td>\n",
              "      <td>67295</td>\n",
              "      <td>4</td>\n",
              "      <td>2</td>\n",
              "      <td>8</td>\n",
              "      <td>199</td>\n",
              "      <td>99</td>\n",
              "      <td>96</td>\n",
              "      <td>414938.5</td>\n",
              "    </tr>\n",
              "  </tbody>\n",
              "</table>\n",
              "</div>"
            ],
            "text/plain": [
              "     v.id  on road old  on road now  ...   hp  torque  current price\n",
              "995   996       633238       743850  ...   95      97       190744.0\n",
              "996   997       599626       848195  ...  101     120       419748.0\n",
              "997   998       646344       842733  ...  113      89       405871.0\n",
              "998   999       535559       732439  ...  112     128        74398.0\n",
              "999  1000       590105       779743  ...   99      96       414938.5\n",
              "\n",
              "[5 rows x 12 columns]"
            ]
          },
          "metadata": {
            "tags": []
          },
          "execution_count": 1
        }
      ]
    }
  ]
}